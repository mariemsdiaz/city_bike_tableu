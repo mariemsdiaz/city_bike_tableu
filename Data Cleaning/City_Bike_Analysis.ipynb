{
 "cells": [
  {
   "cell_type": "code",
   "execution_count": 1,
   "id": "651fac02-f5cc-4024-ad94-0acd189e859e",
   "metadata": {},
   "outputs": [],
   "source": [
    "import pandas as pd"
   ]
  },
  {
   "cell_type": "code",
   "execution_count": 4,
   "id": "226a47f9-dede-4fd9-91cb-fb9dc9ff3d41",
   "metadata": {},
   "outputs": [],
   "source": [
    "# Load the CSV files\n",
    "df1 = pd.read_csv('../Data/2023.08.city_bike.csv')\n",
    "df2 = pd.read_csv('../Data/2024.08.city_bike.csv')"
   ]
  },
  {
   "cell_type": "code",
   "execution_count": 5,
   "id": "001b6bba-d7b0-4f64-bbf0-60e4227fc387",
   "metadata": {},
   "outputs": [
    {
     "name": "stdout",
     "output_type": "stream",
     "text": [
      "            ride_id rideable_type           started_at             ended_at  \\\n",
      "0  E2E964A161F786AB  classic_bike  2023-08-07 19:37:47  2023-08-07 19:41:14   \n",
      "1  0660F2E48E3BB87F  classic_bike  2023-08-01 13:16:22  2023-08-01 13:26:02   \n",
      "2  940FC7C675232897  classic_bike  2023-08-15 17:28:23  2023-08-15 17:50:35   \n",
      "3  E967660CC5CD585B  classic_bike  2023-08-01 12:44:24  2023-08-01 12:49:45   \n",
      "4  D997CB0B855FE2D6  classic_bike  2023-08-08 12:31:16  2023-08-08 12:40:18   \n",
      "\n",
      "           start_station_name start_station_id  \\\n",
      "0             6 St & Grand St            HB302   \n",
      "1             6 St & Grand St            HB302   \n",
      "2            Heights Elevator            JC059   \n",
      "3  Hoboken Ave at Monmouth St            JC105   \n",
      "4  Hoboken Ave at Monmouth St            JC105   \n",
      "\n",
      "                          end_station_name end_station_id  start_lat  \\\n",
      "0                       Madison St & 10 St          HB503  40.744398   \n",
      "1                          6 St & Grand St          HB302  40.744398   \n",
      "2                         Heights Elevator          JC059  40.748721   \n",
      "3  Hoboken Terminal - River St & Hudson Pl          HB102  40.735279   \n",
      "4  Hoboken Terminal - River St & Hudson Pl          HB102  40.735208   \n",
      "\n",
      "   start_lng    end_lat    end_lng member_casual  \n",
      "0 -74.034501  40.749943 -74.035865        member  \n",
      "1 -74.034501  40.744398 -74.034501        member  \n",
      "2 -74.040480  40.748716 -74.040443        member  \n",
      "3 -74.046830  40.736068 -74.029127        member  \n",
      "4 -74.046964  40.736068 -74.029127        member  \n",
      "            ride_id  rideable_type               started_at  \\\n",
      "0  17AE31FCAE74D287  electric_bike  2024-08-07 13:22:55.656   \n",
      "1  FD9859BDBE0CDF70  electric_bike  2024-08-13 13:15:08.627   \n",
      "2  AAC5ECD095AE5572  electric_bike  2024-08-12 20:07:26.975   \n",
      "3  857C4DCB2F29655B  electric_bike  2024-08-09 13:43:18.882   \n",
      "4  4439657C244E7009   classic_bike  2024-08-01 10:29:40.174   \n",
      "\n",
      "                  ended_at      start_station_name start_station_id  \\\n",
      "0  2024-08-07 13:25:09.654        7 St & Monroe St            HB304   \n",
      "1  2024-08-13 13:17:44.971        7 St & Monroe St            HB304   \n",
      "2  2024-08-12 20:09:38.180        7 St & Monroe St            HB304   \n",
      "3  2024-08-09 13:45:38.226        7 St & Monroe St            HB304   \n",
      "4  2024-08-01 10:32:56.874  Clinton St & Newark St            HB409   \n",
      "\n",
      "  end_station_name end_station_id  start_lat  start_lng    end_lat    end_lng  \\\n",
      "0  4 St & Grand St          HB301  40.746413 -74.037977  40.742258 -74.035111   \n",
      "1  4 St & Grand St          HB301  40.746413 -74.037977  40.742258 -74.035111   \n",
      "2  4 St & Grand St          HB301  40.746413 -74.037977  40.742258 -74.035111   \n",
      "3  4 St & Grand St          HB301  40.746413 -74.037977  40.742258 -74.035111   \n",
      "4  4 St & Grand St          HB301  40.737430 -74.035710  40.742258 -74.035111   \n",
      "\n",
      "  member_casual  \n",
      "0        member  \n",
      "1        member  \n",
      "2        member  \n",
      "3        member  \n",
      "4        member  \n"
     ]
    }
   ],
   "source": [
    "print(df1.head())\n",
    "print(df2.head())\n"
   ]
  },
  {
   "cell_type": "code",
   "execution_count": 6,
   "id": "ca11940c-cc79-4d1b-84e4-0027517abfae",
   "metadata": {},
   "outputs": [
    {
     "name": "stdout",
     "output_type": "stream",
     "text": [
      "ride_id                 0\n",
      "rideable_type           0\n",
      "started_at              0\n",
      "ended_at                0\n",
      "start_station_name      0\n",
      "start_station_id        0\n",
      "end_station_name      326\n",
      "end_station_id        326\n",
      "start_lat               0\n",
      "start_lng               0\n",
      "end_lat               120\n",
      "end_lng               120\n",
      "member_casual           0\n",
      "dtype: int64\n",
      "ride_id                 0\n",
      "rideable_type           0\n",
      "started_at              0\n",
      "ended_at                0\n",
      "start_station_name      0\n",
      "start_station_id        0\n",
      "end_station_name      371\n",
      "end_station_id        389\n",
      "start_lat               0\n",
      "start_lng               0\n",
      "end_lat                37\n",
      "end_lng                37\n",
      "member_casual           0\n",
      "dtype: int64\n"
     ]
    }
   ],
   "source": [
    "print(df1.isnull().sum())\n",
    "print(df2.isnull().sum())\n"
   ]
  },
  {
   "cell_type": "code",
   "execution_count": 7,
   "id": "a0c903e2-b167-433c-bc44-8b7cd954c463",
   "metadata": {},
   "outputs": [
    {
     "name": "stdout",
     "output_type": "stream",
     "text": [
      "Total duplicates in 2023 DataFrame: 0\n"
     ]
    }
   ],
   "source": [
    "# Check for duplicates in df1\n",
    "num_duplicates_df1 = df1.duplicated().sum()\n",
    "print(f'Total duplicates in 2023 DataFrame: {num_duplicates_df1}')\n",
    "\n"
   ]
  },
  {
   "cell_type": "code",
   "execution_count": 8,
   "id": "d2b5404b-8d1f-473a-9d2e-ec238573a42b",
   "metadata": {},
   "outputs": [
    {
     "name": "stdout",
     "output_type": "stream",
     "text": [
      "Duplicate rows in 2023 DataFrame:\n",
      "Empty DataFrame\n",
      "Columns: [ride_id, rideable_type, started_at, ended_at, start_station_name, start_station_id, end_station_name, end_station_id, start_lat, start_lng, end_lat, end_lng, member_casual]\n",
      "Index: []\n"
     ]
    }
   ],
   "source": [
    "# Check for duplicate rows in df1\n",
    "duplicate_rows_df1 = df1[df1.duplicated()]\n",
    "print(\"Duplicate rows in 2023 DataFrame:\")\n",
    "print(duplicate_rows_df1)"
   ]
  },
  {
   "cell_type": "code",
   "execution_count": 9,
   "id": "9531c0b4-6b7a-447f-bbc7-f3cbad55ed4b",
   "metadata": {},
   "outputs": [
    {
     "name": "stdout",
     "output_type": "stream",
     "text": [
      "Total duplicates in 2024 DataFrame: 0\n"
     ]
    }
   ],
   "source": [
    "# Check for duplicates in df2\n",
    "num_duplicates_df2 = df2.duplicated().sum()\n",
    "print(f'Total duplicates in 2024 DataFrame: {num_duplicates_df2}')"
   ]
  },
  {
   "cell_type": "code",
   "execution_count": 10,
   "id": "0404fdf3-b2a9-44ba-989a-f2f7bb36e1fa",
   "metadata": {},
   "outputs": [
    {
     "name": "stdout",
     "output_type": "stream",
     "text": [
      "Duplicate rows in 2024 DataFrame:\n",
      "Empty DataFrame\n",
      "Columns: [ride_id, rideable_type, started_at, ended_at, start_station_name, start_station_id, end_station_name, end_station_id, start_lat, start_lng, end_lat, end_lng, member_casual]\n",
      "Index: []\n"
     ]
    }
   ],
   "source": [
    "# Check for duplicate rows in df2\n",
    "duplicate_rows_df2 = df2[df2.duplicated()]\n",
    "print(\"Duplicate rows in 2024 DataFrame:\")\n",
    "print(duplicate_rows_df2)"
   ]
  },
  {
   "cell_type": "code",
   "execution_count": 11,
   "id": "a0f406b0-2f57-4dde-9184-0db8c9a580b5",
   "metadata": {},
   "outputs": [
    {
     "name": "stdout",
     "output_type": "stream",
     "text": [
      "Null values in 2023 DataFrame:\n",
      "ride_id                 0\n",
      "rideable_type           0\n",
      "started_at              0\n",
      "ended_at                0\n",
      "start_station_name      0\n",
      "start_station_id        0\n",
      "end_station_name      326\n",
      "end_station_id        326\n",
      "start_lat               0\n",
      "start_lng               0\n",
      "end_lat               120\n",
      "end_lng               120\n",
      "member_casual           0\n",
      "dtype: int64\n",
      "Null values in 2024 DataFrame:\n",
      "ride_id                 0\n",
      "rideable_type           0\n",
      "started_at              0\n",
      "ended_at                0\n",
      "start_station_name      0\n",
      "start_station_id        0\n",
      "end_station_name      371\n",
      "end_station_id        389\n",
      "start_lat               0\n",
      "start_lng               0\n",
      "end_lat                37\n",
      "end_lng                37\n",
      "member_casual           0\n",
      "dtype: int64\n"
     ]
    }
   ],
   "source": [
    "# Check for null values in df1\n",
    "null_counts_df1 = df1.isnull().sum()\n",
    "print(\"Null values in 2023 DataFrame:\")\n",
    "print(null_counts_df1)\n",
    "\n",
    "# Check for null values in df2\n",
    "null_counts_df2 = df2.isnull().sum()\n",
    "print(\"Null values in 2024 DataFrame:\")\n",
    "print(null_counts_df2)\n"
   ]
  },
  {
   "cell_type": "code",
   "execution_count": 17,
   "id": "5ec0fb32-5ed6-47e8-acea-63ff578bc77e",
   "metadata": {},
   "outputs": [
    {
     "name": "stdout",
     "output_type": "stream",
     "text": [
      "Unique start station names in 2023 DataFrame:\n",
      "112\n"
     ]
    }
   ],
   "source": [
    "unique_start_stations_df1 = df1['start_station_name'].nunique()\n",
    "print(\"Unique start station names in 2023 DataFrame:\")\n",
    "print(unique_start_stations_df1)"
   ]
  },
  {
   "cell_type": "code",
   "execution_count": 18,
   "id": "a8793c73-618c-4e39-968f-cd6c5c30631d",
   "metadata": {},
   "outputs": [
    {
     "name": "stdout",
     "output_type": "stream",
     "text": [
      "Unique start station names in 2024 DataFrame:\n",
      "83\n"
     ]
    }
   ],
   "source": [
    "# Check unique start station names in df2 (2024 DataFrame)\n",
    "unique_start_stations_df2 = df2['start_station_name'].nunique()\n",
    "print(\"Unique start station names in 2024 DataFrame:\")\n",
    "print(unique_start_stations_df2)"
   ]
  },
  {
   "cell_type": "code",
   "execution_count": 26,
   "id": "d70c59a1-d3e2-4cfe-9532-161f1fe4ec86",
   "metadata": {},
   "outputs": [
    {
     "name": "stdout",
     "output_type": "stream",
     "text": [
      "Unique end station names in 2023 DataFrame:\n",
      "197\n"
     ]
    }
   ],
   "source": [
    "unique_end_stations_df1 = df1['end_station_name'].nunique()\n",
    "print(\"Unique end station names in 2023 DataFrame:\")\n",
    "print(unique_end_stations_df1)"
   ]
  },
  {
   "cell_type": "code",
   "execution_count": 27,
   "id": "a3f0f60e-4a45-40d0-8205-100b910d188a",
   "metadata": {},
   "outputs": [],
   "source": [
    "# Fill missing values with a constant value\n",
    "df1_filled = df1.fillna({'end_station_name': 'Unknown', 'end_station_id': 'Unknown'})\n",
    "df2_filled = df2.fillna({'end_station_name': 'Unknown', 'end_station_id': 'Unknown'})\n"
   ]
  },
  {
   "cell_type": "code",
   "execution_count": 28,
   "id": "d0b72846-3f7c-4b2a-b125-4739034170ee",
   "metadata": {},
   "outputs": [
    {
     "name": "stdout",
     "output_type": "stream",
     "text": [
      "Remaining null values in df1 (2023):\n",
      "ride_id                 0\n",
      "rideable_type           0\n",
      "started_at              0\n",
      "ended_at                0\n",
      "start_station_name      0\n",
      "start_station_id        0\n",
      "end_station_name      326\n",
      "end_station_id        326\n",
      "start_lat               0\n",
      "start_lng               0\n",
      "end_lat               120\n",
      "end_lng               120\n",
      "member_casual           0\n",
      "dtype: int64\n",
      "Remaining null values in df2 (2024):\n",
      "ride_id                 0\n",
      "rideable_type           0\n",
      "started_at              0\n",
      "ended_at                0\n",
      "start_station_name      0\n",
      "start_station_id        0\n",
      "end_station_name      371\n",
      "end_station_id        389\n",
      "start_lat               0\n",
      "start_lng               0\n",
      "end_lat                37\n",
      "end_lng                37\n",
      "member_casual           0\n",
      "dtype: int64\n"
     ]
    }
   ],
   "source": [
    "# Check for remaining null values in df1\n",
    "remaining_nulls_df1 = df1.isnull().sum()\n",
    "print(\"Remaining null values in df1 (2023):\")\n",
    "print(remaining_nulls_df1)\n",
    "\n",
    "# Check for remaining null values in df2\n",
    "remaining_nulls_df2 = df2.isnull().sum()\n",
    "print(\"Remaining null values in df2 (2024):\")\n",
    "print(remaining_nulls_df2)\n"
   ]
  },
  {
   "cell_type": "code",
   "execution_count": 30,
   "id": "25488a17-89c0-4016-b511-0b13185ba440",
   "metadata": {},
   "outputs": [
    {
     "name": "stderr",
     "output_type": "stream",
     "text": [
      "/var/folders/yx/mscwdl4d42xd49b1zt9vkbph0000gn/T/ipykernel_5559/80780364.py:2: FutureWarning: A value is trying to be set on a copy of a DataFrame or Series through chained assignment using an inplace method.\n",
      "The behavior will change in pandas 3.0. This inplace method will never work because the intermediate object on which we are setting values always behaves as a copy.\n",
      "\n",
      "For example, when doing 'df[col].method(value, inplace=True)', try using 'df.method({col: value}, inplace=True)' or df[col] = df[col].method(value) instead, to perform the operation inplace on the original object.\n",
      "\n",
      "\n",
      "  df1['end_station_name'].fillna('Unknown', inplace=True)\n",
      "/var/folders/yx/mscwdl4d42xd49b1zt9vkbph0000gn/T/ipykernel_5559/80780364.py:3: FutureWarning: A value is trying to be set on a copy of a DataFrame or Series through chained assignment using an inplace method.\n",
      "The behavior will change in pandas 3.0. This inplace method will never work because the intermediate object on which we are setting values always behaves as a copy.\n",
      "\n",
      "For example, when doing 'df[col].method(value, inplace=True)', try using 'df.method({col: value}, inplace=True)' or df[col] = df[col].method(value) instead, to perform the operation inplace on the original object.\n",
      "\n",
      "\n",
      "  df1['end_station_id'].fillna('Unknown', inplace=True)\n",
      "/var/folders/yx/mscwdl4d42xd49b1zt9vkbph0000gn/T/ipykernel_5559/80780364.py:5: FutureWarning: A value is trying to be set on a copy of a DataFrame or Series through chained assignment using an inplace method.\n",
      "The behavior will change in pandas 3.0. This inplace method will never work because the intermediate object on which we are setting values always behaves as a copy.\n",
      "\n",
      "For example, when doing 'df[col].method(value, inplace=True)', try using 'df.method({col: value}, inplace=True)' or df[col] = df[col].method(value) instead, to perform the operation inplace on the original object.\n",
      "\n",
      "\n",
      "  df2['end_station_name'].fillna('Unknown', inplace=True)\n",
      "/var/folders/yx/mscwdl4d42xd49b1zt9vkbph0000gn/T/ipykernel_5559/80780364.py:6: FutureWarning: A value is trying to be set on a copy of a DataFrame or Series through chained assignment using an inplace method.\n",
      "The behavior will change in pandas 3.0. This inplace method will never work because the intermediate object on which we are setting values always behaves as a copy.\n",
      "\n",
      "For example, when doing 'df[col].method(value, inplace=True)', try using 'df.method({col: value}, inplace=True)' or df[col] = df[col].method(value) instead, to perform the operation inplace on the original object.\n",
      "\n",
      "\n",
      "  df2['end_station_id'].fillna('Unknown', inplace=True)\n"
     ]
    }
   ],
   "source": [
    "# Fill null values in end_station_name and end_station_id with \"Unknown\"\n",
    "df1['end_station_name'].fillna('Unknown', inplace=True)\n",
    "df1['end_station_id'].fillna('Unknown', inplace=True)\n",
    "\n",
    "df2['end_station_name'].fillna('Unknown', inplace=True)\n",
    "df2['end_station_id'].fillna('Unknown', inplace=True)\n"
   ]
  },
  {
   "cell_type": "code",
   "execution_count": 32,
   "id": "2a639e8a-92d5-477e-8661-2258e0fd4f1b",
   "metadata": {},
   "outputs": [
    {
     "name": "stdout",
     "output_type": "stream",
     "text": [
      "Unique values in end_station_name after filling (df1):\n",
      "198\n",
      "Unique values in end_station_id after filling (df1):\n",
      "198\n",
      "Unique values in end_station_name after filling (df2):\n",
      "201\n",
      "Unique values in end_station_id after filling (df2):\n",
      "['HB301' 'JC075' 'HB409' 'HB408' 'JC078' 'JC080' 'HB203' 'JC027' 'HB303'\n",
      " 'JC109' 'JC093' 'HB105' 'JC057' 'JC116' 'JC082' 'HB603' 'HB502' 'HB611'\n",
      " 'JC099' 'JC076' 'JC022' 'Unknown' '6197.08' 'JC081' '4953.04' 'HB601'\n",
      " 'JC072' 'JC110' 'JC103' '5687.11' 'JC102' '7230.10' '7183.03' 'JC094'\n",
      " '6233.04' '5430.08' 'JC104' 'JC002' 'JC107' '6611.07' '6425.04' '4596.09'\n",
      " 'HB505' '5329.03' '5644.05' 'JC034' 'HB401' 'HB404' 'HB608' '5105.01'\n",
      " '6432.10' '5880.02' 'JC051' '5550.05' '5602.06' '6830.02' 'JC032' 'JC098'\n",
      " 'HB305' 'HB101' '4298.05' 'JC008' '6602.03' '6450.05' '6230.02' '6535.04'\n",
      " '8358.03' 'JC105' 'JC006' '5297.02' '5430.10' '6373.07' 'JC052' '6740.01'\n",
      " '5470.12' '4677.01' '5105.09' '5679.08' '5207.01' '5145.02' '5626.13'\n",
      " 'JC009' '5492.05' '5653.12' 'HB102' 'HB506' 'JC020' 'JC065' '6432.11'\n",
      " '5532.01' '5351.07' '5509.02' 'JC074' 'HB407' 'JC035' 'JC055' 'JC077'\n",
      " '5712.12' '4748.07' 'HB501' 'HB402' 'JC014' 'HB103' 'HB304' '5696.03'\n",
      " 'JC018' '5059.02' 'JC053' '5359.11' 'HB602' '6765.01' 'HB201' 'HB609'\n",
      " '6072.11' '5184.08' '6364.07' 'JC038' 'JC003' '5593.04' '6190.08'\n",
      " '5561.04' '7207.08' '5216.06' '5905.12' '6667.04' '5730.08' '5114.06'\n",
      " '5391.06' '6626.11' '5033.01' 'HB302' '5175.08' 'JC059' '4993.15' 'HB202'\n",
      " 'JC115' 'JC097' 'JC013' '5288.09' '5558.04' '7393.09' '6551.02' '6551.11'\n",
      " 'JC066' '5343.11' '5636.11' '5065.12' '6617.02' 'JC084' '5578.02' 'HB503'\n",
      " 'HB610' 'JC108' '5303.08' 'JC095' '5368.03' '7260.09' '6809.07' '4354.07'\n",
      " '6578.01' '3180.02' '5763.03' '6459.07' '5379.09' '6676.02' '6747.07'\n",
      " '6569.08' '6779.04' '5024.10' '5422.04' '5779.08' '5772.05' '5922.08'\n",
      " '7344.05' '7149.05' '6492.04' 'JC023' 'JC024' '6398.06' '5159.07'\n",
      " '6474.11' '5400.05' '5458.02' '6920.05' '5359.13' '7161.08' '4060.09'\n",
      " '5470.10' '6039.06' 'JC019' '6148.02' 'JC063' '4993.02' '5065.10'\n",
      " '5636.13' '6700.01' '6233.05' '6173.08' '5721.14' '6157.04' '8320.01']\n"
     ]
    }
   ],
   "source": [
    "# Check unique values after filling in df1\n",
    "print(\"Unique values in end_station_name after filling (df1):\")\n",
    "print(df1['end_station_name'].nunique())\n",
    "\n",
    "print(\"Unique values in end_station_id after filling (df1):\")\n",
    "print(df1['end_station_id'].nunique())\n",
    "\n",
    "# Check unique values after filling in df2\n",
    "print(\"Unique values in end_station_name after filling (df2):\")\n",
    "print(df2['end_station_name'].nunique())\n",
    "\n",
    "print(\"Unique values in end_station_id after filling (df2):\")\n",
    "print(df2['end_station_id'].unique())"
   ]
  },
  {
   "cell_type": "code",
   "execution_count": 33,
   "id": "e78b5ed7-0af5-42ee-88af-6684a1f5711f",
   "metadata": {},
   "outputs": [
    {
     "data": {
      "text/html": [
       "<div>\n",
       "<style scoped>\n",
       "    .dataframe tbody tr th:only-of-type {\n",
       "        vertical-align: middle;\n",
       "    }\n",
       "\n",
       "    .dataframe tbody tr th {\n",
       "        vertical-align: top;\n",
       "    }\n",
       "\n",
       "    .dataframe thead th {\n",
       "        text-align: right;\n",
       "    }\n",
       "</style>\n",
       "<table border=\"1\" class=\"dataframe\">\n",
       "  <thead>\n",
       "    <tr style=\"text-align: right;\">\n",
       "      <th></th>\n",
       "      <th>ride_id</th>\n",
       "      <th>rideable_type</th>\n",
       "      <th>started_at</th>\n",
       "      <th>ended_at</th>\n",
       "      <th>start_station_name</th>\n",
       "      <th>start_station_id</th>\n",
       "      <th>end_station_name</th>\n",
       "      <th>end_station_id</th>\n",
       "      <th>start_lat</th>\n",
       "      <th>start_lng</th>\n",
       "      <th>end_lat</th>\n",
       "      <th>end_lng</th>\n",
       "      <th>member_casual</th>\n",
       "    </tr>\n",
       "  </thead>\n",
       "  <tbody>\n",
       "    <tr>\n",
       "      <th>0</th>\n",
       "      <td>E2E964A161F786AB</td>\n",
       "      <td>classic_bike</td>\n",
       "      <td>2023-08-07 19:37:47</td>\n",
       "      <td>2023-08-07 19:41:14</td>\n",
       "      <td>6 St &amp; Grand St</td>\n",
       "      <td>HB302</td>\n",
       "      <td>Madison St &amp; 10 St</td>\n",
       "      <td>HB503</td>\n",
       "      <td>40.744398</td>\n",
       "      <td>-74.034501</td>\n",
       "      <td>40.749943</td>\n",
       "      <td>-74.035865</td>\n",
       "      <td>member</td>\n",
       "    </tr>\n",
       "    <tr>\n",
       "      <th>1</th>\n",
       "      <td>0660F2E48E3BB87F</td>\n",
       "      <td>classic_bike</td>\n",
       "      <td>2023-08-01 13:16:22</td>\n",
       "      <td>2023-08-01 13:26:02</td>\n",
       "      <td>6 St &amp; Grand St</td>\n",
       "      <td>HB302</td>\n",
       "      <td>6 St &amp; Grand St</td>\n",
       "      <td>HB302</td>\n",
       "      <td>40.744398</td>\n",
       "      <td>-74.034501</td>\n",
       "      <td>40.744398</td>\n",
       "      <td>-74.034501</td>\n",
       "      <td>member</td>\n",
       "    </tr>\n",
       "    <tr>\n",
       "      <th>2</th>\n",
       "      <td>940FC7C675232897</td>\n",
       "      <td>classic_bike</td>\n",
       "      <td>2023-08-15 17:28:23</td>\n",
       "      <td>2023-08-15 17:50:35</td>\n",
       "      <td>Heights Elevator</td>\n",
       "      <td>JC059</td>\n",
       "      <td>Heights Elevator</td>\n",
       "      <td>JC059</td>\n",
       "      <td>40.748721</td>\n",
       "      <td>-74.040480</td>\n",
       "      <td>40.748716</td>\n",
       "      <td>-74.040443</td>\n",
       "      <td>member</td>\n",
       "    </tr>\n",
       "    <tr>\n",
       "      <th>3</th>\n",
       "      <td>E967660CC5CD585B</td>\n",
       "      <td>classic_bike</td>\n",
       "      <td>2023-08-01 12:44:24</td>\n",
       "      <td>2023-08-01 12:49:45</td>\n",
       "      <td>Hoboken Ave at Monmouth St</td>\n",
       "      <td>JC105</td>\n",
       "      <td>Hoboken Terminal - River St &amp; Hudson Pl</td>\n",
       "      <td>HB102</td>\n",
       "      <td>40.735279</td>\n",
       "      <td>-74.046830</td>\n",
       "      <td>40.736068</td>\n",
       "      <td>-74.029127</td>\n",
       "      <td>member</td>\n",
       "    </tr>\n",
       "    <tr>\n",
       "      <th>4</th>\n",
       "      <td>D997CB0B855FE2D6</td>\n",
       "      <td>classic_bike</td>\n",
       "      <td>2023-08-08 12:31:16</td>\n",
       "      <td>2023-08-08 12:40:18</td>\n",
       "      <td>Hoboken Ave at Monmouth St</td>\n",
       "      <td>JC105</td>\n",
       "      <td>Hoboken Terminal - River St &amp; Hudson Pl</td>\n",
       "      <td>HB102</td>\n",
       "      <td>40.735208</td>\n",
       "      <td>-74.046964</td>\n",
       "      <td>40.736068</td>\n",
       "      <td>-74.029127</td>\n",
       "      <td>member</td>\n",
       "    </tr>\n",
       "  </tbody>\n",
       "</table>\n",
       "</div>"
      ],
      "text/plain": [
       "            ride_id rideable_type           started_at             ended_at  \\\n",
       "0  E2E964A161F786AB  classic_bike  2023-08-07 19:37:47  2023-08-07 19:41:14   \n",
       "1  0660F2E48E3BB87F  classic_bike  2023-08-01 13:16:22  2023-08-01 13:26:02   \n",
       "2  940FC7C675232897  classic_bike  2023-08-15 17:28:23  2023-08-15 17:50:35   \n",
       "3  E967660CC5CD585B  classic_bike  2023-08-01 12:44:24  2023-08-01 12:49:45   \n",
       "4  D997CB0B855FE2D6  classic_bike  2023-08-08 12:31:16  2023-08-08 12:40:18   \n",
       "\n",
       "           start_station_name start_station_id  \\\n",
       "0             6 St & Grand St            HB302   \n",
       "1             6 St & Grand St            HB302   \n",
       "2            Heights Elevator            JC059   \n",
       "3  Hoboken Ave at Monmouth St            JC105   \n",
       "4  Hoboken Ave at Monmouth St            JC105   \n",
       "\n",
       "                          end_station_name end_station_id  start_lat  \\\n",
       "0                       Madison St & 10 St          HB503  40.744398   \n",
       "1                          6 St & Grand St          HB302  40.744398   \n",
       "2                         Heights Elevator          JC059  40.748721   \n",
       "3  Hoboken Terminal - River St & Hudson Pl          HB102  40.735279   \n",
       "4  Hoboken Terminal - River St & Hudson Pl          HB102  40.735208   \n",
       "\n",
       "   start_lng    end_lat    end_lng member_casual  \n",
       "0 -74.034501  40.749943 -74.035865        member  \n",
       "1 -74.034501  40.744398 -74.034501        member  \n",
       "2 -74.040480  40.748716 -74.040443        member  \n",
       "3 -74.046830  40.736068 -74.029127        member  \n",
       "4 -74.046964  40.736068 -74.029127        member  "
      ]
     },
     "execution_count": 33,
     "metadata": {},
     "output_type": "execute_result"
    }
   ],
   "source": [
    "df1.head()"
   ]
  },
  {
   "cell_type": "code",
   "execution_count": 34,
   "id": "dab248ef-327c-470a-9f60-5595da55e1a4",
   "metadata": {},
   "outputs": [
    {
     "name": "stdout",
     "output_type": "stream",
     "text": [
      "ride_id                 0\n",
      "rideable_type           0\n",
      "started_at              0\n",
      "ended_at                0\n",
      "start_station_name      0\n",
      "start_station_id        0\n",
      "end_station_name        0\n",
      "end_station_id          0\n",
      "start_lat               0\n",
      "start_lng               0\n",
      "end_lat               120\n",
      "end_lng               120\n",
      "member_casual           0\n",
      "dtype: int64\n",
      "ride_id                0\n",
      "rideable_type          0\n",
      "started_at             0\n",
      "ended_at               0\n",
      "start_station_name     0\n",
      "start_station_id       0\n",
      "end_station_name       0\n",
      "end_station_id         0\n",
      "start_lat              0\n",
      "start_lng              0\n",
      "end_lat               37\n",
      "end_lng               37\n",
      "member_casual          0\n",
      "dtype: int64\n"
     ]
    }
   ],
   "source": [
    "print(df1.isnull().sum())\n",
    "print(df2.isnull().sum())"
   ]
  },
  {
   "cell_type": "code",
   "execution_count": 35,
   "id": "4b1f645a-58d3-422b-8287-0f6257b435c5",
   "metadata": {},
   "outputs": [
    {
     "name": "stderr",
     "output_type": "stream",
     "text": [
      "/var/folders/yx/mscwdl4d42xd49b1zt9vkbph0000gn/T/ipykernel_5559/1983478510.py:2: FutureWarning: A value is trying to be set on a copy of a DataFrame or Series through chained assignment using an inplace method.\n",
      "The behavior will change in pandas 3.0. This inplace method will never work because the intermediate object on which we are setting values always behaves as a copy.\n",
      "\n",
      "For example, when doing 'df[col].method(value, inplace=True)', try using 'df.method({col: value}, inplace=True)' or df[col] = df[col].method(value) instead, to perform the operation inplace on the original object.\n",
      "\n",
      "\n",
      "  df1['end_lat'].fillna('Unknown', inplace=True)\n",
      "/var/folders/yx/mscwdl4d42xd49b1zt9vkbph0000gn/T/ipykernel_5559/1983478510.py:2: FutureWarning: Setting an item of incompatible dtype is deprecated and will raise an error in a future version of pandas. Value 'Unknown' has dtype incompatible with float64, please explicitly cast to a compatible dtype first.\n",
      "  df1['end_lat'].fillna('Unknown', inplace=True)\n",
      "/var/folders/yx/mscwdl4d42xd49b1zt9vkbph0000gn/T/ipykernel_5559/1983478510.py:3: FutureWarning: A value is trying to be set on a copy of a DataFrame or Series through chained assignment using an inplace method.\n",
      "The behavior will change in pandas 3.0. This inplace method will never work because the intermediate object on which we are setting values always behaves as a copy.\n",
      "\n",
      "For example, when doing 'df[col].method(value, inplace=True)', try using 'df.method({col: value}, inplace=True)' or df[col] = df[col].method(value) instead, to perform the operation inplace on the original object.\n",
      "\n",
      "\n",
      "  df1['end_lng'].fillna('Unknown', inplace=True)\n",
      "/var/folders/yx/mscwdl4d42xd49b1zt9vkbph0000gn/T/ipykernel_5559/1983478510.py:3: FutureWarning: Setting an item of incompatible dtype is deprecated and will raise an error in a future version of pandas. Value 'Unknown' has dtype incompatible with float64, please explicitly cast to a compatible dtype first.\n",
      "  df1['end_lng'].fillna('Unknown', inplace=True)\n",
      "/var/folders/yx/mscwdl4d42xd49b1zt9vkbph0000gn/T/ipykernel_5559/1983478510.py:5: FutureWarning: A value is trying to be set on a copy of a DataFrame or Series through chained assignment using an inplace method.\n",
      "The behavior will change in pandas 3.0. This inplace method will never work because the intermediate object on which we are setting values always behaves as a copy.\n",
      "\n",
      "For example, when doing 'df[col].method(value, inplace=True)', try using 'df.method({col: value}, inplace=True)' or df[col] = df[col].method(value) instead, to perform the operation inplace on the original object.\n",
      "\n",
      "\n",
      "  df2['end_lat'].fillna('Unknown', inplace=True)\n",
      "/var/folders/yx/mscwdl4d42xd49b1zt9vkbph0000gn/T/ipykernel_5559/1983478510.py:5: FutureWarning: Setting an item of incompatible dtype is deprecated and will raise an error in a future version of pandas. Value 'Unknown' has dtype incompatible with float64, please explicitly cast to a compatible dtype first.\n",
      "  df2['end_lat'].fillna('Unknown', inplace=True)\n",
      "/var/folders/yx/mscwdl4d42xd49b1zt9vkbph0000gn/T/ipykernel_5559/1983478510.py:6: FutureWarning: A value is trying to be set on a copy of a DataFrame or Series through chained assignment using an inplace method.\n",
      "The behavior will change in pandas 3.0. This inplace method will never work because the intermediate object on which we are setting values always behaves as a copy.\n",
      "\n",
      "For example, when doing 'df[col].method(value, inplace=True)', try using 'df.method({col: value}, inplace=True)' or df[col] = df[col].method(value) instead, to perform the operation inplace on the original object.\n",
      "\n",
      "\n",
      "  df2['end_lng'].fillna('Unknown', inplace=True)\n",
      "/var/folders/yx/mscwdl4d42xd49b1zt9vkbph0000gn/T/ipykernel_5559/1983478510.py:6: FutureWarning: Setting an item of incompatible dtype is deprecated and will raise an error in a future version of pandas. Value 'Unknown' has dtype incompatible with float64, please explicitly cast to a compatible dtype first.\n",
      "  df2['end_lng'].fillna('Unknown', inplace=True)\n"
     ]
    }
   ],
   "source": [
    "# Fill null values in end_station_name and end_station_id with \"Unknown\"\n",
    "df1['end_lat'].fillna('Unknown', inplace=True)\n",
    "df1['end_lng'].fillna('Unknown', inplace=True)\n",
    "\n",
    "df2['end_lat'].fillna('Unknown', inplace=True)\n",
    "df2['end_lng'].fillna('Unknown', inplace=True)\n"
   ]
  },
  {
   "cell_type": "code",
   "execution_count": 37,
   "id": "61ade93d-b0de-4939-abe6-9eb85e63dd3f",
   "metadata": {},
   "outputs": [
    {
     "name": "stdout",
     "output_type": "stream",
     "text": [
      "Size of df1: (112027, 13)\n",
      "Size of df2: (106451, 13)\n"
     ]
    }
   ],
   "source": [
    "# Check the size of each DataFrame\n",
    "print(\"Size of df1:\", df1.shape)\n",
    "print(\"Size of df2:\", df2.shape)"
   ]
  },
  {
   "cell_type": "code",
   "execution_count": 40,
   "id": "0f1b6ea3-1e91-4b82-a482-d27dde7fd829",
   "metadata": {},
   "outputs": [
    {
     "name": "stdout",
     "output_type": "stream",
     "text": [
      "ride_id                       object\n",
      "rideable_type                 object\n",
      "started_at            datetime64[ns]\n",
      "ended_at              datetime64[ns]\n",
      "start_station_name            object\n",
      "start_station_id              object\n",
      "end_station_name              object\n",
      "end_station_id                object\n",
      "start_lat                    float64\n",
      "start_lng                    float64\n",
      "end_lat                       object\n",
      "end_lng                       object\n",
      "member_casual                 object\n",
      "dtype: object\n",
      "ride_id                object\n",
      "rideable_type          object\n",
      "started_at             object\n",
      "ended_at               object\n",
      "start_station_name     object\n",
      "start_station_id       object\n",
      "end_station_name       object\n",
      "end_station_id         object\n",
      "start_lat             float64\n",
      "start_lng             float64\n",
      "end_lat                object\n",
      "end_lng                object\n",
      "member_casual          object\n",
      "dtype: object\n"
     ]
    }
   ],
   "source": [
    "print(df1.dtypes)\n",
    "print(df2.dtypes)"
   ]
  },
  {
   "cell_type": "code",
   "execution_count": 41,
   "id": "6189bad7-e582-42e3-a266-79233ba674b6",
   "metadata": {},
   "outputs": [],
   "source": [
    "# Convert the columns to datetime format\n",
    "df1['started_at'] = pd.to_datetime(df1['started_at'], errors='coerce')\n",
    "df1['ended_at'] = pd.to_datetime(df1['ended_at'], errors='coerce')\n"
   ]
  },
  {
   "cell_type": "code",
   "execution_count": 42,
   "id": "a9f41ba6-485e-4635-998b-488eb255754c",
   "metadata": {},
   "outputs": [
    {
     "name": "stdout",
     "output_type": "stream",
     "text": [
      "ride_id                       object\n",
      "rideable_type                 object\n",
      "started_at            datetime64[ns]\n",
      "ended_at              datetime64[ns]\n",
      "start_station_name            object\n",
      "start_station_id              object\n",
      "end_station_name              object\n",
      "end_station_id                object\n",
      "start_lat                    float64\n",
      "start_lng                    float64\n",
      "end_lat                       object\n",
      "end_lng                       object\n",
      "member_casual                 object\n",
      "dtype: object\n"
     ]
    }
   ],
   "source": [
    "# Check if conversion was successful\n",
    "print(df1.dtypes)"
   ]
  },
  {
   "cell_type": "code",
   "execution_count": 43,
   "id": "4fe97adf-ec1f-4119-b484-5501c9c094d8",
   "metadata": {},
   "outputs": [],
   "source": [
    "# Extract only the date portion\n",
    "df1['started_at'] = df1['started_at'].dt.date\n",
    "df1['ended_at'] = df1['ended_at'].dt.date"
   ]
  },
  {
   "cell_type": "code",
   "execution_count": 50,
   "id": "c4ff9618-a95c-4436-8121-c3409c063d92",
   "metadata": {},
   "outputs": [
    {
     "name": "stdout",
     "output_type": "stream",
     "text": [
      "            ride_id rideable_type  started_at    ended_at  \\\n",
      "0  E2E964A161F786AB  classic_bike  2023-08-07  2023-08-07   \n",
      "1  0660F2E48E3BB87F  classic_bike  2023-08-01  2023-08-01   \n",
      "2  940FC7C675232897  classic_bike  2023-08-15  2023-08-15   \n",
      "3  E967660CC5CD585B  classic_bike  2023-08-01  2023-08-01   \n",
      "4  D997CB0B855FE2D6  classic_bike  2023-08-08  2023-08-08   \n",
      "\n",
      "           start_station_name start_station_id  \\\n",
      "0             6 St & Grand St            HB302   \n",
      "1             6 St & Grand St            HB302   \n",
      "2            Heights Elevator            JC059   \n",
      "3  Hoboken Ave at Monmouth St            JC105   \n",
      "4  Hoboken Ave at Monmouth St            JC105   \n",
      "\n",
      "                          end_station_name end_station_id  start_lat  \\\n",
      "0                       Madison St & 10 St          HB503  40.744398   \n",
      "1                          6 St & Grand St          HB302  40.744398   \n",
      "2                         Heights Elevator          JC059  40.748721   \n",
      "3  Hoboken Terminal - River St & Hudson Pl          HB102  40.735279   \n",
      "4  Hoboken Terminal - River St & Hudson Pl          HB102  40.735208   \n",
      "\n",
      "   start_lng    end_lat    end_lng member_casual  \n",
      "0 -74.034501  40.749943 -74.035865        member  \n",
      "1 -74.034501  40.744398 -74.034501        member  \n",
      "2 -74.040480  40.748716 -74.040443        member  \n",
      "3 -74.046830  40.736068 -74.029127        member  \n",
      "4 -74.046964  40.736068 -74.029127        member  \n"
     ]
    }
   ],
   "source": [
    "# Display the updated DataFrame\n",
    "print(df1.head())"
   ]
  },
  {
   "cell_type": "code",
   "execution_count": 45,
   "id": "bcda9e1e-13f5-4d44-88ab-8593fbe3d89b",
   "metadata": {},
   "outputs": [],
   "source": [
    "# Convert the columns to datetime format\n",
    "df2['started_at'] = pd.to_datetime(df2['started_at'], errors='coerce')\n",
    "df2['ended_at'] = pd.to_datetime(df2['ended_at'], errors='coerce')"
   ]
  },
  {
   "cell_type": "code",
   "execution_count": 48,
   "id": "48d7e509-d05f-45fe-bb9d-72f6bc64c31e",
   "metadata": {},
   "outputs": [],
   "source": [
    "# Display the updated DataFrame\n",
    "# Extract only the date portion\n",
    "df2['started_at'] = df2['started_at'].dt.date\n",
    "df2['ended_at'] = df2['ended_at'].dt.date"
   ]
  },
  {
   "cell_type": "code",
   "execution_count": 51,
   "id": "4c5905d5-eb6c-4306-a591-506c92ed20eb",
   "metadata": {},
   "outputs": [
    {
     "name": "stdout",
     "output_type": "stream",
     "text": [
      "            ride_id  rideable_type  started_at    ended_at  \\\n",
      "0  17AE31FCAE74D287  electric_bike  2024-08-07  2024-08-07   \n",
      "1  FD9859BDBE0CDF70  electric_bike  2024-08-13  2024-08-13   \n",
      "2  AAC5ECD095AE5572  electric_bike  2024-08-12  2024-08-12   \n",
      "3  857C4DCB2F29655B  electric_bike  2024-08-09  2024-08-09   \n",
      "4  4439657C244E7009   classic_bike  2024-08-01  2024-08-01   \n",
      "\n",
      "       start_station_name start_station_id end_station_name end_station_id  \\\n",
      "0        7 St & Monroe St            HB304  4 St & Grand St          HB301   \n",
      "1        7 St & Monroe St            HB304  4 St & Grand St          HB301   \n",
      "2        7 St & Monroe St            HB304  4 St & Grand St          HB301   \n",
      "3        7 St & Monroe St            HB304  4 St & Grand St          HB301   \n",
      "4  Clinton St & Newark St            HB409  4 St & Grand St          HB301   \n",
      "\n",
      "   start_lat  start_lng    end_lat    end_lng member_casual  \n",
      "0  40.746413 -74.037977  40.742258 -74.035111        member  \n",
      "1  40.746413 -74.037977  40.742258 -74.035111        member  \n",
      "2  40.746413 -74.037977  40.742258 -74.035111        member  \n",
      "3  40.746413 -74.037977  40.742258 -74.035111        member  \n",
      "4  40.737430 -74.035710  40.742258 -74.035111        member  \n"
     ]
    }
   ],
   "source": [
    "print(df2.head())"
   ]
  },
  {
   "cell_type": "code",
   "execution_count": 52,
   "id": "76d78141-b3cc-44ff-8006-13b55691d814",
   "metadata": {},
   "outputs": [],
   "source": [
    "# Concatenate the DataFrames\n",
    "merged_df = pd.concat([df1, df2], ignore_index=True)\n"
   ]
  },
  {
   "cell_type": "code",
   "execution_count": 54,
   "id": "81f4138d-0b78-45b5-91a9-d443ee042558",
   "metadata": {},
   "outputs": [
    {
     "data": {
      "text/plain": [
       "(218478, 13)"
      ]
     },
     "execution_count": 54,
     "metadata": {},
     "output_type": "execute_result"
    }
   ],
   "source": [
    "merged_df.shape"
   ]
  },
  {
   "cell_type": "code",
   "execution_count": 55,
   "id": "0cf076a5-d705-404f-b8ce-250d854befaa",
   "metadata": {},
   "outputs": [],
   "source": [
    "merged_df.to_csv('../Data/merged_city_bike_data.csv', index=False)"
   ]
  },
  {
   "cell_type": "code",
   "execution_count": null,
   "id": "ca323f5f-5e0a-4a78-91be-08d3d698768e",
   "metadata": {},
   "outputs": [],
   "source": []
  }
 ],
 "metadata": {
  "kernelspec": {
   "display_name": "Python 3 (ipykernel)",
   "language": "python",
   "name": "python3"
  },
  "language_info": {
   "codemirror_mode": {
    "name": "ipython",
    "version": 3
   },
   "file_extension": ".py",
   "mimetype": "text/x-python",
   "name": "python",
   "nbconvert_exporter": "python",
   "pygments_lexer": "ipython3",
   "version": "3.10.14"
  }
 },
 "nbformat": 4,
 "nbformat_minor": 5
}
